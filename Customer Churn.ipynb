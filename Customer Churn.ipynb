{
 "cells": [
  {
   "cell_type": "markdown",
   "metadata": {},
   "source": [
    "## Loading Dataset"
   ]
  },
  {
   "cell_type": "code",
   "execution_count": 1,
   "metadata": {},
   "outputs": [],
   "source": [
    "import numpy as np\n",
    "import pandas as pd\n",
    "import tensorflow as tf\n",
    "import matplotlib.pyplot as plt\n",
    "import seaborn as sns\n",
    "sns.set()\n",
    "sns.set_theme(style=\"whitegrid\")\n",
    "\n",
    "import warnings\n",
    "warnings.filterwarnings('ignore')"
   ]
  },
  {
   "cell_type": "code",
   "execution_count": 2,
   "metadata": {
    "scrolled": true
   },
   "outputs": [
    {
     "data": {
      "text/html": [
       "<div>\n",
       "<style scoped>\n",
       "    .dataframe tbody tr th:only-of-type {\n",
       "        vertical-align: middle;\n",
       "    }\n",
       "\n",
       "    .dataframe tbody tr th {\n",
       "        vertical-align: top;\n",
       "    }\n",
       "\n",
       "    .dataframe thead th {\n",
       "        text-align: right;\n",
       "    }\n",
       "</style>\n",
       "<table border=\"1\" class=\"dataframe\">\n",
       "  <thead>\n",
       "    <tr style=\"text-align: right;\">\n",
       "      <th></th>\n",
       "      <th>RowNumber</th>\n",
       "      <th>CustomerId</th>\n",
       "      <th>Surname</th>\n",
       "      <th>CreditScore</th>\n",
       "      <th>Geography</th>\n",
       "      <th>Gender</th>\n",
       "      <th>Age</th>\n",
       "      <th>Tenure</th>\n",
       "      <th>Balance</th>\n",
       "      <th>NumOfProducts</th>\n",
       "      <th>HasCrCard</th>\n",
       "      <th>IsActiveMember</th>\n",
       "      <th>EstimatedSalary</th>\n",
       "      <th>Exited</th>\n",
       "    </tr>\n",
       "  </thead>\n",
       "  <tbody>\n",
       "    <tr>\n",
       "      <th>0</th>\n",
       "      <td>1</td>\n",
       "      <td>15634602</td>\n",
       "      <td>Hargrave</td>\n",
       "      <td>619</td>\n",
       "      <td>France</td>\n",
       "      <td>Female</td>\n",
       "      <td>42</td>\n",
       "      <td>2</td>\n",
       "      <td>0.00</td>\n",
       "      <td>1</td>\n",
       "      <td>1</td>\n",
       "      <td>1</td>\n",
       "      <td>101348.88</td>\n",
       "      <td>1</td>\n",
       "    </tr>\n",
       "    <tr>\n",
       "      <th>1</th>\n",
       "      <td>2</td>\n",
       "      <td>15647311</td>\n",
       "      <td>Hill</td>\n",
       "      <td>608</td>\n",
       "      <td>Spain</td>\n",
       "      <td>Female</td>\n",
       "      <td>41</td>\n",
       "      <td>1</td>\n",
       "      <td>83807.86</td>\n",
       "      <td>1</td>\n",
       "      <td>0</td>\n",
       "      <td>1</td>\n",
       "      <td>112542.58</td>\n",
       "      <td>0</td>\n",
       "    </tr>\n",
       "    <tr>\n",
       "      <th>2</th>\n",
       "      <td>3</td>\n",
       "      <td>15619304</td>\n",
       "      <td>Onio</td>\n",
       "      <td>502</td>\n",
       "      <td>France</td>\n",
       "      <td>Female</td>\n",
       "      <td>42</td>\n",
       "      <td>8</td>\n",
       "      <td>159660.80</td>\n",
       "      <td>3</td>\n",
       "      <td>1</td>\n",
       "      <td>0</td>\n",
       "      <td>113931.57</td>\n",
       "      <td>1</td>\n",
       "    </tr>\n",
       "    <tr>\n",
       "      <th>3</th>\n",
       "      <td>4</td>\n",
       "      <td>15701354</td>\n",
       "      <td>Boni</td>\n",
       "      <td>699</td>\n",
       "      <td>France</td>\n",
       "      <td>Female</td>\n",
       "      <td>39</td>\n",
       "      <td>1</td>\n",
       "      <td>0.00</td>\n",
       "      <td>2</td>\n",
       "      <td>0</td>\n",
       "      <td>0</td>\n",
       "      <td>93826.63</td>\n",
       "      <td>0</td>\n",
       "    </tr>\n",
       "    <tr>\n",
       "      <th>4</th>\n",
       "      <td>5</td>\n",
       "      <td>15737888</td>\n",
       "      <td>Mitchell</td>\n",
       "      <td>850</td>\n",
       "      <td>Spain</td>\n",
       "      <td>Female</td>\n",
       "      <td>43</td>\n",
       "      <td>2</td>\n",
       "      <td>125510.82</td>\n",
       "      <td>1</td>\n",
       "      <td>1</td>\n",
       "      <td>1</td>\n",
       "      <td>79084.10</td>\n",
       "      <td>0</td>\n",
       "    </tr>\n",
       "  </tbody>\n",
       "</table>\n",
       "</div>"
      ],
      "text/plain": [
       "   RowNumber  CustomerId   Surname  CreditScore Geography  Gender  Age  \\\n",
       "0          1    15634602  Hargrave          619    France  Female   42   \n",
       "1          2    15647311      Hill          608     Spain  Female   41   \n",
       "2          3    15619304      Onio          502    France  Female   42   \n",
       "3          4    15701354      Boni          699    France  Female   39   \n",
       "4          5    15737888  Mitchell          850     Spain  Female   43   \n",
       "\n",
       "   Tenure    Balance  NumOfProducts  HasCrCard  IsActiveMember  \\\n",
       "0       2       0.00              1          1               1   \n",
       "1       1   83807.86              1          0               1   \n",
       "2       8  159660.80              3          1               0   \n",
       "3       1       0.00              2          0               0   \n",
       "4       2  125510.82              1          1               1   \n",
       "\n",
       "   EstimatedSalary  Exited  \n",
       "0        101348.88       1  \n",
       "1        112542.58       0  \n",
       "2        113931.57       1  \n",
       "3         93826.63       0  \n",
       "4         79084.10       0  "
      ]
     },
     "execution_count": 2,
     "metadata": {},
     "output_type": "execute_result"
    }
   ],
   "source": [
    "data = pd.read_csv('Churn_Modelling.csv')\n",
    "data.head()"
   ]
  },
  {
   "cell_type": "code",
   "execution_count": 3,
   "metadata": {},
   "outputs": [
    {
     "data": {
      "text/html": [
       "<div>\n",
       "<style scoped>\n",
       "    .dataframe tbody tr th:only-of-type {\n",
       "        vertical-align: middle;\n",
       "    }\n",
       "\n",
       "    .dataframe tbody tr th {\n",
       "        vertical-align: top;\n",
       "    }\n",
       "\n",
       "    .dataframe thead th {\n",
       "        text-align: right;\n",
       "    }\n",
       "</style>\n",
       "<table border=\"1\" class=\"dataframe\">\n",
       "  <thead>\n",
       "    <tr style=\"text-align: right;\">\n",
       "      <th></th>\n",
       "      <th>RowNumber</th>\n",
       "      <th>CustomerId</th>\n",
       "      <th>CreditScore</th>\n",
       "      <th>Age</th>\n",
       "      <th>Tenure</th>\n",
       "      <th>Balance</th>\n",
       "      <th>NumOfProducts</th>\n",
       "      <th>HasCrCard</th>\n",
       "      <th>IsActiveMember</th>\n",
       "      <th>EstimatedSalary</th>\n",
       "      <th>Exited</th>\n",
       "    </tr>\n",
       "  </thead>\n",
       "  <tbody>\n",
       "    <tr>\n",
       "      <th>count</th>\n",
       "      <td>10000.00000</td>\n",
       "      <td>1.000000e+04</td>\n",
       "      <td>10000.000000</td>\n",
       "      <td>10000.000000</td>\n",
       "      <td>10000.000000</td>\n",
       "      <td>10000.000000</td>\n",
       "      <td>10000.000000</td>\n",
       "      <td>10000.00000</td>\n",
       "      <td>10000.000000</td>\n",
       "      <td>10000.000000</td>\n",
       "      <td>10000.000000</td>\n",
       "    </tr>\n",
       "    <tr>\n",
       "      <th>mean</th>\n",
       "      <td>5000.50000</td>\n",
       "      <td>1.569094e+07</td>\n",
       "      <td>650.528800</td>\n",
       "      <td>38.921800</td>\n",
       "      <td>5.012800</td>\n",
       "      <td>76485.889288</td>\n",
       "      <td>1.530200</td>\n",
       "      <td>0.70550</td>\n",
       "      <td>0.515100</td>\n",
       "      <td>100090.239881</td>\n",
       "      <td>0.203700</td>\n",
       "    </tr>\n",
       "    <tr>\n",
       "      <th>std</th>\n",
       "      <td>2886.89568</td>\n",
       "      <td>7.193619e+04</td>\n",
       "      <td>96.653299</td>\n",
       "      <td>10.487806</td>\n",
       "      <td>2.892174</td>\n",
       "      <td>62397.405202</td>\n",
       "      <td>0.581654</td>\n",
       "      <td>0.45584</td>\n",
       "      <td>0.499797</td>\n",
       "      <td>57510.492818</td>\n",
       "      <td>0.402769</td>\n",
       "    </tr>\n",
       "    <tr>\n",
       "      <th>min</th>\n",
       "      <td>1.00000</td>\n",
       "      <td>1.556570e+07</td>\n",
       "      <td>350.000000</td>\n",
       "      <td>18.000000</td>\n",
       "      <td>0.000000</td>\n",
       "      <td>0.000000</td>\n",
       "      <td>1.000000</td>\n",
       "      <td>0.00000</td>\n",
       "      <td>0.000000</td>\n",
       "      <td>11.580000</td>\n",
       "      <td>0.000000</td>\n",
       "    </tr>\n",
       "    <tr>\n",
       "      <th>25%</th>\n",
       "      <td>2500.75000</td>\n",
       "      <td>1.562853e+07</td>\n",
       "      <td>584.000000</td>\n",
       "      <td>32.000000</td>\n",
       "      <td>3.000000</td>\n",
       "      <td>0.000000</td>\n",
       "      <td>1.000000</td>\n",
       "      <td>0.00000</td>\n",
       "      <td>0.000000</td>\n",
       "      <td>51002.110000</td>\n",
       "      <td>0.000000</td>\n",
       "    </tr>\n",
       "    <tr>\n",
       "      <th>50%</th>\n",
       "      <td>5000.50000</td>\n",
       "      <td>1.569074e+07</td>\n",
       "      <td>652.000000</td>\n",
       "      <td>37.000000</td>\n",
       "      <td>5.000000</td>\n",
       "      <td>97198.540000</td>\n",
       "      <td>1.000000</td>\n",
       "      <td>1.00000</td>\n",
       "      <td>1.000000</td>\n",
       "      <td>100193.915000</td>\n",
       "      <td>0.000000</td>\n",
       "    </tr>\n",
       "    <tr>\n",
       "      <th>75%</th>\n",
       "      <td>7500.25000</td>\n",
       "      <td>1.575323e+07</td>\n",
       "      <td>718.000000</td>\n",
       "      <td>44.000000</td>\n",
       "      <td>7.000000</td>\n",
       "      <td>127644.240000</td>\n",
       "      <td>2.000000</td>\n",
       "      <td>1.00000</td>\n",
       "      <td>1.000000</td>\n",
       "      <td>149388.247500</td>\n",
       "      <td>0.000000</td>\n",
       "    </tr>\n",
       "    <tr>\n",
       "      <th>max</th>\n",
       "      <td>10000.00000</td>\n",
       "      <td>1.581569e+07</td>\n",
       "      <td>850.000000</td>\n",
       "      <td>92.000000</td>\n",
       "      <td>10.000000</td>\n",
       "      <td>250898.090000</td>\n",
       "      <td>4.000000</td>\n",
       "      <td>1.00000</td>\n",
       "      <td>1.000000</td>\n",
       "      <td>199992.480000</td>\n",
       "      <td>1.000000</td>\n",
       "    </tr>\n",
       "  </tbody>\n",
       "</table>\n",
       "</div>"
      ],
      "text/plain": [
       "         RowNumber    CustomerId   CreditScore           Age        Tenure  \\\n",
       "count  10000.00000  1.000000e+04  10000.000000  10000.000000  10000.000000   \n",
       "mean    5000.50000  1.569094e+07    650.528800     38.921800      5.012800   \n",
       "std     2886.89568  7.193619e+04     96.653299     10.487806      2.892174   \n",
       "min        1.00000  1.556570e+07    350.000000     18.000000      0.000000   \n",
       "25%     2500.75000  1.562853e+07    584.000000     32.000000      3.000000   \n",
       "50%     5000.50000  1.569074e+07    652.000000     37.000000      5.000000   \n",
       "75%     7500.25000  1.575323e+07    718.000000     44.000000      7.000000   \n",
       "max    10000.00000  1.581569e+07    850.000000     92.000000     10.000000   \n",
       "\n",
       "             Balance  NumOfProducts    HasCrCard  IsActiveMember  \\\n",
       "count   10000.000000   10000.000000  10000.00000    10000.000000   \n",
       "mean    76485.889288       1.530200      0.70550        0.515100   \n",
       "std     62397.405202       0.581654      0.45584        0.499797   \n",
       "min         0.000000       1.000000      0.00000        0.000000   \n",
       "25%         0.000000       1.000000      0.00000        0.000000   \n",
       "50%     97198.540000       1.000000      1.00000        1.000000   \n",
       "75%    127644.240000       2.000000      1.00000        1.000000   \n",
       "max    250898.090000       4.000000      1.00000        1.000000   \n",
       "\n",
       "       EstimatedSalary        Exited  \n",
       "count     10000.000000  10000.000000  \n",
       "mean     100090.239881      0.203700  \n",
       "std       57510.492818      0.402769  \n",
       "min          11.580000      0.000000  \n",
       "25%       51002.110000      0.000000  \n",
       "50%      100193.915000      0.000000  \n",
       "75%      149388.247500      0.000000  \n",
       "max      199992.480000      1.000000  "
      ]
     },
     "execution_count": 3,
     "metadata": {},
     "output_type": "execute_result"
    }
   ],
   "source": [
    "data.describe()"
   ]
  },
  {
   "cell_type": "code",
   "execution_count": 4,
   "metadata": {},
   "outputs": [
    {
     "name": "stdout",
     "output_type": "stream",
     "text": [
      "<class 'pandas.core.frame.DataFrame'>\n",
      "RangeIndex: 10000 entries, 0 to 9999\n",
      "Data columns (total 14 columns):\n",
      " #   Column           Non-Null Count  Dtype  \n",
      "---  ------           --------------  -----  \n",
      " 0   RowNumber        10000 non-null  int64  \n",
      " 1   CustomerId       10000 non-null  int64  \n",
      " 2   Surname          10000 non-null  object \n",
      " 3   CreditScore      10000 non-null  int64  \n",
      " 4   Geography        10000 non-null  object \n",
      " 5   Gender           10000 non-null  object \n",
      " 6   Age              10000 non-null  int64  \n",
      " 7   Tenure           10000 non-null  int64  \n",
      " 8   Balance          10000 non-null  float64\n",
      " 9   NumOfProducts    10000 non-null  int64  \n",
      " 10  HasCrCard        10000 non-null  int64  \n",
      " 11  IsActiveMember   10000 non-null  int64  \n",
      " 12  EstimatedSalary  10000 non-null  float64\n",
      " 13  Exited           10000 non-null  int64  \n",
      "dtypes: float64(2), int64(9), object(3)\n",
      "memory usage: 1.1+ MB\n"
     ]
    }
   ],
   "source": [
    "data.info()"
   ]
  },
  {
   "cell_type": "code",
   "execution_count": 5,
   "metadata": {},
   "outputs": [
    {
     "data": {
      "text/plain": [
       "RowNumber          0\n",
       "CustomerId         0\n",
       "Surname            0\n",
       "CreditScore        0\n",
       "Geography          0\n",
       "Gender             0\n",
       "Age                0\n",
       "Tenure             0\n",
       "Balance            0\n",
       "NumOfProducts      0\n",
       "HasCrCard          0\n",
       "IsActiveMember     0\n",
       "EstimatedSalary    0\n",
       "Exited             0\n",
       "dtype: int64"
      ]
     },
     "execution_count": 5,
     "metadata": {},
     "output_type": "execute_result"
    }
   ],
   "source": [
    "data.isnull().sum()"
   ]
  },
  {
   "cell_type": "markdown",
   "metadata": {},
   "source": [
    "## Data Visualisation"
   ]
  },
  {
   "cell_type": "code",
   "execution_count": 6,
   "metadata": {
    "scrolled": true
   },
   "outputs": [
    {
     "data": {
      "image/png": "[encoded data removed]",
      "text/plain": [
       "<Figure size 1296x1080 with 6 Axes>"
      ]
     },
     "metadata": {},
     "output_type": "display_data"
    }
   ],
   "source": [
    "f, ax = plt.subplots(3, 2, figsize = (18, 15))\n",
    "\n",
    "sns.countplot('Geography', hue = 'Exited', data = data, palette = \"viridis\", ax = ax[0][0])\n",
    "sns.countplot('Gender', hue = 'Exited', data = data, palette = \"viridis\", ax = ax[0][1])\n",
    "sns.countplot('Tenure', hue = 'Exited', data = data, palette = \"viridis\", ax = ax[1][0])\n",
    "sns.countplot('NumOfProducts', hue = 'Exited', data = data, palette = \"viridis\", ax = ax[1][1])\n",
    "sns.countplot('HasCrCard', hue = 'Exited', data = data, palette = \"viridis\", ax = ax[2][0])\n",
    "sns.countplot('IsActiveMember', hue = 'Exited', data = data, palette = \"viridis\", ax = ax[2][1])\n",
    "\n",
    "plt.tight_layout()\n",
    "plt.show()"
   ]
  },
  {
   "cell_type": "markdown",
   "metadata": {},
   "source": [
    "- Majority of the customers are from france, but most customers which churned are from germany.\n",
    "- Female customers churning have greater proportion than male\n",
    "- Churning rate is high between 1 to 9 tenures.\n",
    "- Majority of the customers have 1 or 2 products and most customers which churned are having 1 products.\n",
    "- Majority of customers that churned are those with credit cards.\n",
    "- The inactive members have a greater churn and the overall proportion of inactive members is also very high."
   ]
  },
  {
   "cell_type": "markdown",
   "metadata": {},
   "source": [
    "**Correlation Matrix**"
   ]
  },
  {
   "cell_type": "code",
   "execution_count": 7,
   "metadata": {
    "scrolled": true
   },
   "outputs": [
    {
     "data": {
      "text/plain": [
       "<AxesSubplot:>"
      ]
     },
     "execution_count": 7,
     "metadata": {},
     "output_type": "execute_result"
    },
    {
     "data": {
      "image/png": "[encoded data removed]",
      "text/plain": [
       "<Figure size 792x648 with 2 Axes>"
      ]
     },
     "metadata": {},
     "output_type": "display_data"
    }
   ],
   "source": [
    "corr = data.corr()\n",
    "\n",
    "mask = np.triu(np.ones_like(corr, dtype=bool))\n",
    "f, ax = plt.subplots(figsize=(11, 9))\n",
    "cmap = sns.diverging_palette(220, 20, as_cmap=True)\n",
    "sns.heatmap(corr, mask=mask, cmap=cmap, vmax=.3, center=0, square=True, linewidths=.5, cbar_kws={\"shrink\": .5})"
   ]
  },
  {
   "cell_type": "code",
   "execution_count": 8,
   "metadata": {},
   "outputs": [],
   "source": [
    "x = data.iloc[:, 3:-1].values\n",
    "y = data.iloc[:, -1].values"
   ]
  },
  {
   "cell_type": "markdown",
   "metadata": {},
   "source": [
    "## Data Preprocessing"
   ]
  },
  {
   "cell_type": "code",
   "execution_count": 9,
   "metadata": {},
   "outputs": [],
   "source": [
    "from sklearn.preprocessing import LabelEncoder\n",
    "le = LabelEncoder()\n",
    "x[:, 2] = le.fit_transform(x[:,2])"
   ]
  },
  {
   "cell_type": "code",
   "execution_count": 10,
   "metadata": {},
   "outputs": [],
   "source": [
    "from sklearn.compose import ColumnTransformer\n",
    "from sklearn.preprocessing import OneHotEncoder\n",
    "ct = ColumnTransformer(transformers = [('encoder', OneHotEncoder(), [1])], remainder = 'passthrough')\n",
    "x = np.array(ct.fit_transform(x))"
   ]
  },
  {
   "cell_type": "code",
   "execution_count": 11,
   "metadata": {
    "scrolled": true
   },
   "outputs": [
    {
     "name": "stdout",
     "output_type": "stream",
     "text": [
      "[[1.0 0.0 0.0 ... 1 1 101348.88]\n",
      " [0.0 0.0 1.0 ... 0 1 112542.58]\n",
      " [1.0 0.0 0.0 ... 1 0 113931.57]\n",
      " ...\n",
      " [1.0 0.0 0.0 ... 0 1 42085.58]\n",
      " [0.0 1.0 0.0 ... 1 0 92888.52]\n",
      " [1.0 0.0 0.0 ... 1 0 38190.78]]\n"
     ]
    }
   ],
   "source": [
    "print(x)"
   ]
  },
  {
   "cell_type": "markdown",
   "metadata": {},
   "source": [
    "## Splitting dataset into training and test set"
   ]
  },
  {
   "cell_type": "code",
   "execution_count": 12,
   "metadata": {},
   "outputs": [],
   "source": [
    "from sklearn.model_selection import train_test_split\n",
    "x_train, x_test, y_train, y_test = train_test_split(x,y, test_size = 0.2, random_state = 0)"
   ]
  },
  {
   "cell_type": "code",
   "execution_count": 13,
   "metadata": {},
   "outputs": [],
   "source": [
    "from sklearn.preprocessing import StandardScaler\n",
    "sc = StandardScaler()\n",
    "x_train = sc.fit_transform(x_train)\n",
    "x_test = sc.fit_transform(x_test)"
   ]
  },
  {
   "cell_type": "markdown",
   "metadata": {},
   "source": [
    "## Model training and evaluating"
   ]
  },
  {
   "cell_type": "code",
   "execution_count": 14,
   "metadata": {},
   "outputs": [],
   "source": [
    "ann = tf.keras.models.Sequential()"
   ]
  },
  {
   "cell_type": "code",
   "execution_count": 15,
   "metadata": {},
   "outputs": [],
   "source": [
    "ann.add(tf.keras.layers.Dense(units = 6, activation = 'relu'))"
   ]
  },
  {
   "cell_type": "code",
   "execution_count": 16,
   "metadata": {},
   "outputs": [],
   "source": [
    "ann.add(tf.keras.layers.Dense(units = 6, activation = 'relu'))"
   ]
  },
  {
   "cell_type": "code",
   "execution_count": 17,
   "metadata": {},
   "outputs": [],
   "source": [
    "ann.add(tf.keras.layers.Dense(units = 1, activation = 'sigmoid'))"
   ]
  },
  {
   "cell_type": "code",
   "execution_count": 18,
   "metadata": {},
   "outputs": [],
   "source": [
    "ann.compile(optimizer = 'adam', loss = 'binary_crossentropy', metrics = ['accuracy'])"
   ]
  },
  {
   "cell_type": "code",
   "execution_count": 19,
   "metadata": {},
   "outputs": [
    {
     "name": "stdout",
     "output_type": "stream",
     "text": [
      "Epoch 1/100\n",
      "175/175 [==============================] - 1s 3ms/step - loss: 0.6397 - accuracy: 0.6646 - val_loss: 0.5427 - val_accuracy: 0.7958\n",
      "Epoch 2/100\n",
      "175/175 [==============================] - 0s 2ms/step - loss: 0.5062 - accuracy: 0.7961 - val_loss: 0.4869 - val_accuracy: 0.7958\n",
      "Epoch 3/100\n",
      "175/175 [==============================] - 0s 2ms/step - loss: 0.4687 - accuracy: 0.7961 - val_loss: 0.4675 - val_accuracy: 0.7958\n",
      "Epoch 4/100\n",
      "175/175 [==============================] - 0s 2ms/step - loss: 0.4530 - accuracy: 0.7961 - val_loss: 0.4583 - val_accuracy: 0.7958\n",
      "Epoch 5/100\n",
      "175/175 [==============================] - 0s 2ms/step - loss: 0.4442 - accuracy: 0.7961 - val_loss: 0.4504 - val_accuracy: 0.7958\n",
      "Epoch 6/100\n",
      "175/175 [==============================] - 0s 2ms/step - loss: 0.4375 - accuracy: 0.7961 - val_loss: 0.4442 - val_accuracy: 0.7958\n",
      "Epoch 7/100\n",
      "175/175 [==============================] - 0s 2ms/step - loss: 0.4311 - accuracy: 0.7962 - val_loss: 0.4386 - val_accuracy: 0.7962\n",
      "Epoch 8/100\n",
      "175/175 [==============================] - 0s 2ms/step - loss: 0.4238 - accuracy: 0.7987 - val_loss: 0.4329 - val_accuracy: 0.7996\n",
      "Epoch 9/100\n",
      "175/175 [==============================] - 0s 2ms/step - loss: 0.4154 - accuracy: 0.8052 - val_loss: 0.4257 - val_accuracy: 0.8062\n",
      "Epoch 10/100\n",
      "175/175 [==============================] - 1s 3ms/step - loss: 0.4059 - accuracy: 0.8109 - val_loss: 0.4164 - val_accuracy: 0.8079\n",
      "Epoch 11/100\n",
      "175/175 [==============================] - 0s 3ms/step - loss: 0.3965 - accuracy: 0.8143 - val_loss: 0.4098 - val_accuracy: 0.8087\n",
      "Epoch 12/100\n",
      "175/175 [==============================] - 0s 2ms/step - loss: 0.3884 - accuracy: 0.8170 - val_loss: 0.4034 - val_accuracy: 0.8108\n",
      "Epoch 13/100\n",
      "175/175 [==============================] - 0s 2ms/step - loss: 0.3819 - accuracy: 0.8168 - val_loss: 0.3988 - val_accuracy: 0.8121\n",
      "Epoch 14/100\n",
      "175/175 [==============================] - 0s 2ms/step - loss: 0.3762 - accuracy: 0.8188 - val_loss: 0.3941 - val_accuracy: 0.8129\n",
      "Epoch 15/100\n",
      "175/175 [==============================] - 0s 2ms/step - loss: 0.3715 - accuracy: 0.8277 - val_loss: 0.3902 - val_accuracy: 0.8258\n",
      "Epoch 16/100\n",
      "175/175 [==============================] - 0s 2ms/step - loss: 0.3674 - accuracy: 0.8395 - val_loss: 0.3873 - val_accuracy: 0.8300\n",
      "Epoch 17/100\n",
      "175/175 [==============================] - 0s 2ms/step - loss: 0.3642 - accuracy: 0.8429 - val_loss: 0.3848 - val_accuracy: 0.8338\n",
      "Epoch 18/100\n",
      "175/175 [==============================] - 0s 2ms/step - loss: 0.3609 - accuracy: 0.8452 - val_loss: 0.3809 - val_accuracy: 0.8354\n",
      "Epoch 19/100\n",
      "175/175 [==============================] - 0s 2ms/step - loss: 0.3582 - accuracy: 0.8473 - val_loss: 0.3786 - val_accuracy: 0.8379\n",
      "Epoch 20/100\n",
      "175/175 [==============================] - 0s 2ms/step - loss: 0.3555 - accuracy: 0.8495 - val_loss: 0.3769 - val_accuracy: 0.8396\n",
      "Epoch 21/100\n",
      "175/175 [==============================] - 0s 2ms/step - loss: 0.3533 - accuracy: 0.8504 - val_loss: 0.3743 - val_accuracy: 0.8425\n",
      "Epoch 22/100\n",
      "175/175 [==============================] - 0s 2ms/step - loss: 0.3513 - accuracy: 0.8512 - val_loss: 0.3720 - val_accuracy: 0.8421\n",
      "Epoch 23/100\n",
      "175/175 [==============================] - 0s 2ms/step - loss: 0.3492 - accuracy: 0.8525 - val_loss: 0.3716 - val_accuracy: 0.8438\n",
      "Epoch 24/100\n",
      "175/175 [==============================] - 0s 2ms/step - loss: 0.3479 - accuracy: 0.8534 - val_loss: 0.3698 - val_accuracy: 0.8462\n",
      "Epoch 25/100\n",
      "175/175 [==============================] - 0s 3ms/step - loss: 0.3463 - accuracy: 0.8548 - val_loss: 0.3694 - val_accuracy: 0.8475\n",
      "Epoch 26/100\n",
      "175/175 [==============================] - 0s 2ms/step - loss: 0.3448 - accuracy: 0.8559 - val_loss: 0.3675 - val_accuracy: 0.8479\n",
      "Epoch 27/100\n",
      "175/175 [==============================] - 0s 2ms/step - loss: 0.3441 - accuracy: 0.8566 - val_loss: 0.3676 - val_accuracy: 0.8504\n",
      "Epoch 28/100\n",
      "175/175 [==============================] - 0s 2ms/step - loss: 0.3433 - accuracy: 0.8566 - val_loss: 0.3673 - val_accuracy: 0.8492\n",
      "Epoch 29/100\n",
      "175/175 [==============================] - 0s 2ms/step - loss: 0.3423 - accuracy: 0.8577 - val_loss: 0.3660 - val_accuracy: 0.8521\n",
      "Epoch 30/100\n",
      "175/175 [==============================] - 0s 2ms/step - loss: 0.3413 - accuracy: 0.8584 - val_loss: 0.3650 - val_accuracy: 0.8517\n",
      "Epoch 31/100\n",
      "175/175 [==============================] - 0s 2ms/step - loss: 0.3405 - accuracy: 0.8598 - val_loss: 0.3655 - val_accuracy: 0.8525\n",
      "Epoch 32/100\n",
      "175/175 [==============================] - 0s 2ms/step - loss: 0.3400 - accuracy: 0.8580 - val_loss: 0.3644 - val_accuracy: 0.8546\n",
      "Epoch 33/100\n",
      "175/175 [==============================] - 0s 2ms/step - loss: 0.3394 - accuracy: 0.8598 - val_loss: 0.3637 - val_accuracy: 0.8550\n",
      "Epoch 34/100\n",
      "175/175 [==============================] - 0s 2ms/step - loss: 0.3384 - accuracy: 0.8611 - val_loss: 0.3640 - val_accuracy: 0.8537\n",
      "Epoch 35/100\n",
      "175/175 [==============================] - 0s 2ms/step - loss: 0.3381 - accuracy: 0.8604 - val_loss: 0.3625 - val_accuracy: 0.8558\n",
      "Epoch 36/100\n",
      "175/175 [==============================] - 0s 2ms/step - loss: 0.3375 - accuracy: 0.8602 - val_loss: 0.3631 - val_accuracy: 0.8533\n",
      "Epoch 37/100\n",
      "175/175 [==============================] - 0s 2ms/step - loss: 0.3375 - accuracy: 0.8618 - val_loss: 0.3616 - val_accuracy: 0.8529\n",
      "Epoch 38/100\n",
      "175/175 [==============================] - 0s 2ms/step - loss: 0.3365 - accuracy: 0.8609 - val_loss: 0.3616 - val_accuracy: 0.8571\n",
      "Epoch 39/100\n",
      "175/175 [==============================] - 0s 2ms/step - loss: 0.3362 - accuracy: 0.8621 - val_loss: 0.3618 - val_accuracy: 0.8550\n",
      "Epoch 40/100\n",
      "175/175 [==============================] - 0s 2ms/step - loss: 0.3359 - accuracy: 0.8620 - val_loss: 0.3610 - val_accuracy: 0.8579\n",
      "Epoch 41/100\n",
      "175/175 [==============================] - 0s 2ms/step - loss: 0.3355 - accuracy: 0.8634 - val_loss: 0.3617 - val_accuracy: 0.8554\n",
      "Epoch 42/100\n",
      "175/175 [==============================] - 0s 2ms/step - loss: 0.3351 - accuracy: 0.8621 - val_loss: 0.3612 - val_accuracy: 0.8587\n",
      "Epoch 43/100\n",
      "175/175 [==============================] - 0s 2ms/step - loss: 0.3344 - accuracy: 0.8634 - val_loss: 0.3601 - val_accuracy: 0.8592\n",
      "Epoch 44/100\n",
      "175/175 [==============================] - 0s 2ms/step - loss: 0.3345 - accuracy: 0.8616 - val_loss: 0.3600 - val_accuracy: 0.8596\n",
      "Epoch 45/100\n",
      "175/175 [==============================] - 0s 2ms/step - loss: 0.3338 - accuracy: 0.8629 - val_loss: 0.3599 - val_accuracy: 0.8587\n",
      "Epoch 46/100\n",
      "175/175 [==============================] - 0s 3ms/step - loss: 0.3339 - accuracy: 0.8629 - val_loss: 0.3607 - val_accuracy: 0.8583\n",
      "Epoch 47/100\n",
      "175/175 [==============================] - 0s 2ms/step - loss: 0.3337 - accuracy: 0.8645 - val_loss: 0.3599 - val_accuracy: 0.8571\n",
      "Epoch 48/100\n",
      "175/175 [==============================] - 0s 2ms/step - loss: 0.3335 - accuracy: 0.8629 - val_loss: 0.3596 - val_accuracy: 0.8567\n",
      "Epoch 49/100\n",
      "175/175 [==============================] - 0s 3ms/step - loss: 0.3331 - accuracy: 0.8620 - val_loss: 0.3583 - val_accuracy: 0.8604\n",
      "Epoch 50/100\n",
      "175/175 [==============================] - 0s 3ms/step - loss: 0.3331 - accuracy: 0.8632 - val_loss: 0.3587 - val_accuracy: 0.8583\n",
      "Epoch 51/100\n",
      "175/175 [==============================] - 0s 2ms/step - loss: 0.3328 - accuracy: 0.8630 - val_loss: 0.3586 - val_accuracy: 0.8596\n",
      "Epoch 52/100\n",
      "175/175 [==============================] - 0s 2ms/step - loss: 0.3327 - accuracy: 0.8621 - val_loss: 0.3587 - val_accuracy: 0.8567\n",
      "Epoch 53/100\n",
      "175/175 [==============================] - 0s 2ms/step - loss: 0.3323 - accuracy: 0.8630 - val_loss: 0.3591 - val_accuracy: 0.8571\n",
      "Epoch 54/100\n",
      "175/175 [==============================] - 0s 2ms/step - loss: 0.3323 - accuracy: 0.8632 - val_loss: 0.3578 - val_accuracy: 0.8583\n",
      "Epoch 55/100\n",
      "175/175 [==============================] - 0s 2ms/step - loss: 0.3317 - accuracy: 0.8620 - val_loss: 0.3582 - val_accuracy: 0.8579\n",
      "Epoch 56/100\n",
      "175/175 [==============================] - 0s 2ms/step - loss: 0.3318 - accuracy: 0.8611 - val_loss: 0.3573 - val_accuracy: 0.8567\n",
      "Epoch 57/100\n",
      "175/175 [==============================] - 0s 2ms/step - loss: 0.3315 - accuracy: 0.8637 - val_loss: 0.3579 - val_accuracy: 0.8567\n"
     ]
    },
    {
     "name": "stdout",
     "output_type": "stream",
     "text": [
      "Epoch 58/100\n",
      "175/175 [==============================] - 0s 2ms/step - loss: 0.3314 - accuracy: 0.8620 - val_loss: 0.3592 - val_accuracy: 0.8575\n",
      "Epoch 59/100\n",
      "175/175 [==============================] - 0s 2ms/step - loss: 0.3313 - accuracy: 0.8632 - val_loss: 0.3569 - val_accuracy: 0.8567\n",
      "Epoch 60/100\n",
      "175/175 [==============================] - 1s 3ms/step - loss: 0.3312 - accuracy: 0.8639 - val_loss: 0.3580 - val_accuracy: 0.8562\n",
      "Epoch 61/100\n",
      "175/175 [==============================] - 0s 3ms/step - loss: 0.3311 - accuracy: 0.8609 - val_loss: 0.3573 - val_accuracy: 0.8600\n",
      "Epoch 62/100\n",
      "175/175 [==============================] - 0s 2ms/step - loss: 0.3309 - accuracy: 0.8636 - val_loss: 0.3564 - val_accuracy: 0.8571\n",
      "Epoch 63/100\n",
      "175/175 [==============================] - 0s 2ms/step - loss: 0.3308 - accuracy: 0.8634 - val_loss: 0.3566 - val_accuracy: 0.8583\n",
      "Epoch 64/100\n",
      "175/175 [==============================] - 0s 2ms/step - loss: 0.3306 - accuracy: 0.8609 - val_loss: 0.3561 - val_accuracy: 0.8571\n",
      "Epoch 65/100\n",
      "175/175 [==============================] - 0s 2ms/step - loss: 0.3307 - accuracy: 0.8641 - val_loss: 0.3570 - val_accuracy: 0.8587\n",
      "Epoch 66/100\n",
      "175/175 [==============================] - 0s 2ms/step - loss: 0.3307 - accuracy: 0.8625 - val_loss: 0.3571 - val_accuracy: 0.8592\n",
      "Epoch 67/100\n",
      "175/175 [==============================] - 0s 2ms/step - loss: 0.3300 - accuracy: 0.8639 - val_loss: 0.3581 - val_accuracy: 0.8575\n",
      "Epoch 68/100\n",
      "175/175 [==============================] - 0s 2ms/step - loss: 0.3301 - accuracy: 0.8623 - val_loss: 0.3565 - val_accuracy: 0.8587\n",
      "Epoch 69/100\n",
      "175/175 [==============================] - 0s 2ms/step - loss: 0.3299 - accuracy: 0.8634 - val_loss: 0.3565 - val_accuracy: 0.8575\n",
      "Epoch 70/100\n",
      "175/175 [==============================] - 0s 2ms/step - loss: 0.3298 - accuracy: 0.8654 - val_loss: 0.3566 - val_accuracy: 0.8583\n",
      "Epoch 71/100\n",
      "175/175 [==============================] - 0s 2ms/step - loss: 0.3298 - accuracy: 0.8645 - val_loss: 0.3561 - val_accuracy: 0.8592\n",
      "Epoch 72/100\n",
      "175/175 [==============================] - 0s 2ms/step - loss: 0.3295 - accuracy: 0.8630 - val_loss: 0.3571 - val_accuracy: 0.8562\n",
      "Epoch 73/100\n",
      "175/175 [==============================] - 0s 2ms/step - loss: 0.3297 - accuracy: 0.8634 - val_loss: 0.3551 - val_accuracy: 0.8587\n",
      "Epoch 74/100\n",
      "175/175 [==============================] - 0s 2ms/step - loss: 0.3296 - accuracy: 0.8648 - val_loss: 0.3554 - val_accuracy: 0.8571\n",
      "Epoch 75/100\n",
      "175/175 [==============================] - 0s 2ms/step - loss: 0.3291 - accuracy: 0.8645 - val_loss: 0.3567 - val_accuracy: 0.8583\n",
      "Epoch 76/100\n",
      "175/175 [==============================] - 0s 2ms/step - loss: 0.3294 - accuracy: 0.8629 - val_loss: 0.3559 - val_accuracy: 0.8583\n",
      "Epoch 77/100\n",
      "175/175 [==============================] - 0s 2ms/step - loss: 0.3291 - accuracy: 0.8646 - val_loss: 0.3568 - val_accuracy: 0.8575\n",
      "Epoch 78/100\n",
      "175/175 [==============================] - 0s 2ms/step - loss: 0.3296 - accuracy: 0.8627 - val_loss: 0.3562 - val_accuracy: 0.8596\n",
      "Epoch 79/100\n",
      "175/175 [==============================] - 0s 2ms/step - loss: 0.3298 - accuracy: 0.8641 - val_loss: 0.3561 - val_accuracy: 0.8579\n",
      "Epoch 80/100\n",
      "175/175 [==============================] - 0s 2ms/step - loss: 0.3295 - accuracy: 0.8654 - val_loss: 0.3561 - val_accuracy: 0.8571\n",
      "Epoch 81/100\n",
      "175/175 [==============================] - 0s 2ms/step - loss: 0.3292 - accuracy: 0.8639 - val_loss: 0.3562 - val_accuracy: 0.8579\n",
      "Epoch 82/100\n",
      "175/175 [==============================] - 0s 2ms/step - loss: 0.3291 - accuracy: 0.8645 - val_loss: 0.3551 - val_accuracy: 0.8567\n",
      "Epoch 83/100\n",
      "175/175 [==============================] - 0s 2ms/step - loss: 0.3289 - accuracy: 0.8643 - val_loss: 0.3557 - val_accuracy: 0.8575\n",
      "Epoch 84/100\n",
      "175/175 [==============================] - 0s 2ms/step - loss: 0.3289 - accuracy: 0.8643 - val_loss: 0.3549 - val_accuracy: 0.8562\n",
      "Epoch 85/100\n",
      "175/175 [==============================] - 0s 2ms/step - loss: 0.3291 - accuracy: 0.8637 - val_loss: 0.3552 - val_accuracy: 0.8587\n",
      "Epoch 86/100\n",
      "175/175 [==============================] - 0s 2ms/step - loss: 0.3288 - accuracy: 0.8634 - val_loss: 0.3559 - val_accuracy: 0.8587\n",
      "Epoch 87/100\n",
      "175/175 [==============================] - 0s 2ms/step - loss: 0.3285 - accuracy: 0.8670 - val_loss: 0.3559 - val_accuracy: 0.8579\n",
      "Epoch 88/100\n",
      "175/175 [==============================] - 0s 2ms/step - loss: 0.3284 - accuracy: 0.8639 - val_loss: 0.3552 - val_accuracy: 0.8575\n",
      "Epoch 89/100\n",
      "175/175 [==============================] - 0s 2ms/step - loss: 0.3287 - accuracy: 0.8634 - val_loss: 0.3549 - val_accuracy: 0.8583\n",
      "Epoch 90/100\n",
      "175/175 [==============================] - 0s 2ms/step - loss: 0.3285 - accuracy: 0.8645 - val_loss: 0.3552 - val_accuracy: 0.8571\n",
      "Epoch 91/100\n",
      "175/175 [==============================] - 0s 2ms/step - loss: 0.3285 - accuracy: 0.8654 - val_loss: 0.3549 - val_accuracy: 0.8571\n",
      "Epoch 92/100\n",
      "175/175 [==============================] - 0s 2ms/step - loss: 0.3285 - accuracy: 0.8641 - val_loss: 0.3548 - val_accuracy: 0.8583\n",
      "Epoch 93/100\n",
      "175/175 [==============================] - 0s 2ms/step - loss: 0.3284 - accuracy: 0.8637 - val_loss: 0.3553 - val_accuracy: 0.8575\n",
      "Epoch 94/100\n",
      "175/175 [==============================] - 0s 2ms/step - loss: 0.3283 - accuracy: 0.8648 - val_loss: 0.3548 - val_accuracy: 0.8579\n",
      "Epoch 95/100\n",
      "175/175 [==============================] - 0s 2ms/step - loss: 0.3283 - accuracy: 0.8634 - val_loss: 0.3557 - val_accuracy: 0.8575\n",
      "Epoch 96/100\n",
      "175/175 [==============================] - 0s 2ms/step - loss: 0.3285 - accuracy: 0.8639 - val_loss: 0.3548 - val_accuracy: 0.8571\n",
      "Epoch 97/100\n",
      "175/175 [==============================] - 0s 2ms/step - loss: 0.3280 - accuracy: 0.8652 - val_loss: 0.3547 - val_accuracy: 0.8579\n",
      "Epoch 98/100\n",
      "175/175 [==============================] - 0s 2ms/step - loss: 0.3279 - accuracy: 0.8639 - val_loss: 0.3549 - val_accuracy: 0.8583\n",
      "Epoch 99/100\n",
      "175/175 [==============================] - 0s 2ms/step - loss: 0.3280 - accuracy: 0.8639 - val_loss: 0.3549 - val_accuracy: 0.8583\n",
      "Epoch 100/100\n",
      "175/175 [==============================] - 0s 2ms/step - loss: 0.3282 - accuracy: 0.8645 - val_loss: 0.3542 - val_accuracy: 0.8562\n"
     ]
    }
   ],
   "source": [
    "model = ann.fit(x_train, y_train, batch_size = 32, epochs = 100, validation_split = 0.3, validation_data = (x_test, y_test))"
   ]
  },
  {
   "cell_type": "code",
   "execution_count": 20,
   "metadata": {
    "scrolled": true
   },
   "outputs": [
    {
     "name": "stdout",
     "output_type": "stream",
     "text": [
      "[[0 0]\n",
      " [0 1]\n",
      " [0 0]\n",
      " ...\n",
      " [0 0]\n",
      " [0 0]\n",
      " [0 0]]\n"
     ]
    }
   ],
   "source": [
    "y_pred = ann.predict(x_test)\n",
    "y_pred = y_pred > 0.5\n",
    "print(np.concatenate((y_pred.reshape(len(y_pred), 1), y_test.reshape(len(y_test),1)), 1))"
   ]
  },
  {
   "cell_type": "code",
   "execution_count": 21,
   "metadata": {},
   "outputs": [
    {
     "name": "stdout",
     "output_type": "stream",
     "text": [
      "[[1520   75]\n",
      " [ 187  218]]\n",
      "Accuracy: 86.90%\n",
      "              precision    recall  f1-score   support\n",
      "\n",
      "           0       0.89      0.95      0.92      1595\n",
      "           1       0.74      0.54      0.62       405\n",
      "\n",
      "    accuracy                           0.87      2000\n",
      "   macro avg       0.82      0.75      0.77      2000\n",
      "weighted avg       0.86      0.87      0.86      2000\n",
      "\n"
     ]
    }
   ],
   "source": [
    "from sklearn.metrics import confusion_matrix, accuracy_score, classification_report\n",
    "cm = confusion_matrix(y_test, y_pred)\n",
    "print(cm)\n",
    "print('Accuracy: {0:.2f}%'.format(100 * accuracy_score(y_test, y_pred)))\n",
    "print(classification_report(y_test, y_pred))"
   ]
  },
  {
   "cell_type": "markdown",
   "metadata": {},
   "source": [
    "## Visualising ANN's Loss and Accuracy"
   ]
  },
  {
   "cell_type": "code",
   "execution_count": 22,
   "metadata": {
    "scrolled": true
   },
   "outputs": [
    {
     "data": {
      "image/png": "[encoded data removed]",
      "text/plain": [
       "<Figure size 432x288 with 1 Axes>"
      ]
     },
     "metadata": {},
     "output_type": "display_data"
    }
   ],
   "source": [
    "loss_train = model.history['loss']\n",
    "loss_val = model.history['val_loss']\n",
    "epochs = range(1,101)\n",
    "plt.plot(epochs, loss_train, 'g', label='Training loss')\n",
    "plt.plot(epochs, loss_val, 'b', label='validation loss')\n",
    "plt.title('Training and Validation loss')\n",
    "plt.xlabel('Epochs')\n",
    "plt.ylabel('Loss')\n",
    "plt.legend()\n",
    "plt.show()"
   ]
  },
  {
   "cell_type": "code",
   "execution_count": 23,
   "metadata": {},
   "outputs": [
    {
     "data": {
      "image/png": "[encoded data removed]",
      "text/plain": [
       "<Figure size 432x288 with 1 Axes>"
      ]
     },
     "metadata": {},
     "output_type": "display_data"
    }
   ],
   "source": [
    "loss_train = model.history['accuracy']\n",
    "loss_val = model.history['val_accuracy']\n",
    "epochs = range(1,101)\n",
    "plt.plot(epochs, loss_train, 'g', label='Training accuracy')\n",
    "plt.plot(epochs, loss_val, 'b', label='validation accuracy')\n",
    "plt.title('Training and Validation accuracy')\n",
    "plt.xlabel('Epochs')\n",
    "plt.ylabel('Accuracy')\n",
    "plt.legend()\n",
    "plt.show()"
   ]
  }
 ],
 "metadata": {
  "kernelspec": {
   "display_name": "Python 3",
   "language": "python",
   "name": "python3"
  },
  "language_info": {
   "codemirror_mode": {
    "name": "ipython",
    "version": 3
   },
   "file_extension": ".py",
   "mimetype": "text/x-python",
   "name": "python",
   "nbconvert_exporter": "python",
   "pygments_lexer": "ipython3",
   "version": "3.8.5"
  }
 },
 "nbformat": 4,
 "nbformat_minor": 5
}
